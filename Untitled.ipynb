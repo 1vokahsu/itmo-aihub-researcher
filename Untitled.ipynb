{
 "cells": [
  {
   "cell_type": "code",
   "execution_count": 1,
   "id": "5a836626-a427-4513-83bf-1e7b05fb8338",
   "metadata": {
    "collapsed": true,
    "jupyter": {
     "outputs_hidden": true
    },
    "tags": []
   },
   "outputs": [
    {
     "name": "stdout",
     "output_type": "stream",
     "text": [
      "Requirement already satisfied: selenium in /opt/anaconda3/lib/python3.9/site-packages (4.25.0)\n",
      "Requirement already satisfied: webdriver-manager in /opt/anaconda3/lib/python3.9/site-packages (4.0.2)\n",
      "Requirement already satisfied: urllib3<3,>=1.26 in /opt/anaconda3/lib/python3.9/site-packages (from urllib3[socks]<3,>=1.26->selenium) (1.26.11)\n",
      "Requirement already satisfied: trio~=0.17 in /opt/anaconda3/lib/python3.9/site-packages (from selenium) (0.26.2)\n",
      "Requirement already satisfied: trio-websocket~=0.9 in /opt/anaconda3/lib/python3.9/site-packages (from selenium) (0.11.1)\n",
      "Requirement already satisfied: certifi>=2021.10.8 in /opt/anaconda3/lib/python3.9/site-packages (from selenium) (2022.9.24)\n",
      "Requirement already satisfied: typing_extensions~=4.9 in /opt/anaconda3/lib/python3.9/site-packages (from selenium) (4.12.2)\n",
      "Requirement already satisfied: websocket-client~=1.8 in /opt/anaconda3/lib/python3.9/site-packages (from selenium) (1.8.0)\n",
      "Requirement already satisfied: requests in /opt/anaconda3/lib/python3.9/site-packages (from webdriver-manager) (2.32.3)\n",
      "Requirement already satisfied: python-dotenv in /opt/anaconda3/lib/python3.9/site-packages (from webdriver-manager) (1.0.1)\n",
      "Requirement already satisfied: packaging in /opt/anaconda3/lib/python3.9/site-packages (from webdriver-manager) (21.3)\n",
      "Requirement already satisfied: attrs>=23.2.0 in /opt/anaconda3/lib/python3.9/site-packages (from trio~=0.17->selenium) (24.2.0)\n",
      "Requirement already satisfied: sortedcontainers in /opt/anaconda3/lib/python3.9/site-packages (from trio~=0.17->selenium) (2.4.0)\n",
      "Requirement already satisfied: idna in /opt/anaconda3/lib/python3.9/site-packages (from trio~=0.17->selenium) (3.3)\n",
      "Requirement already satisfied: outcome in /opt/anaconda3/lib/python3.9/site-packages (from trio~=0.17->selenium) (1.3.0.post0)\n",
      "Requirement already satisfied: sniffio>=1.3.0 in /opt/anaconda3/lib/python3.9/site-packages (from trio~=0.17->selenium) (1.3.1)\n",
      "Requirement already satisfied: exceptiongroup in /opt/anaconda3/lib/python3.9/site-packages (from trio~=0.17->selenium) (1.2.2)\n",
      "Requirement already satisfied: wsproto>=0.14 in /opt/anaconda3/lib/python3.9/site-packages (from trio-websocket~=0.9->selenium) (1.2.0)\n",
      "Requirement already satisfied: PySocks!=1.5.7,<2.0,>=1.5.6 in /opt/anaconda3/lib/python3.9/site-packages (from urllib3[socks]<3,>=1.26->selenium) (1.7.1)\n",
      "Requirement already satisfied: pyparsing!=3.0.5,>=2.0.2 in /opt/anaconda3/lib/python3.9/site-packages (from packaging->webdriver-manager) (3.0.9)\n",
      "Requirement already satisfied: charset-normalizer<4,>=2 in /opt/anaconda3/lib/python3.9/site-packages (from requests->webdriver-manager) (2.0.4)\n",
      "Requirement already satisfied: h11<1,>=0.9.0 in /opt/anaconda3/lib/python3.9/site-packages (from wsproto>=0.14->trio-websocket~=0.9->selenium) (0.14.0)\n",
      "\n",
      "\u001b[1m[\u001b[0m\u001b[34;49mnotice\u001b[0m\u001b[1;39;49m]\u001b[0m\u001b[39;49m A new release of pip is available: \u001b[0m\u001b[31;49m23.3.2\u001b[0m\u001b[39;49m -> \u001b[0m\u001b[32;49m25.2\u001b[0m\n",
      "\u001b[1m[\u001b[0m\u001b[34;49mnotice\u001b[0m\u001b[1;39;49m]\u001b[0m\u001b[39;49m To update, run: \u001b[0m\u001b[32;49mpip install --upgrade pip\u001b[0m\n"
     ]
    }
   ],
   "source": [
    "!pip install selenium webdriver-manager"
   ]
  },
  {
   "cell_type": "code",
   "execution_count": 12,
   "id": "3631dba1-32b0-4c8b-a7d3-6d10c9dc153b",
   "metadata": {},
   "outputs": [
    {
     "name": "stdout",
     "output_type": "stream",
     "text": [
      "Скачивание начато успешно!\n",
      "\n",
      "Последний добавленный файл: 10033-abit (2).pdf\n",
      "Полный путь: /Users/ushakovalex/Downloads/10033-abit (2).pdf\n",
      "Создан: 2025-08-14 02:56:45\n",
      "Размер: 88567 байт\n",
      "Скачивание начато успешно!\n",
      "\n",
      "Последний добавленный файл: 10130-abit (1).pdf\n",
      "Полный путь: /Users/ushakovalex/Downloads/10130-abit (1).pdf\n",
      "Создан: 2025-08-14 02:58:08\n",
      "Размер: 78698 байт\n"
     ]
    },
    {
     "data": {
      "text/plain": [
       "{'https://abit.itmo.ru/program/master/ai': '/Users/ushakovalex/Downloads/10033-abit (2).pdf',\n",
       " 'https://abit.itmo.ru/program/master/ai_product': '/Users/ushakovalex/Downloads/10130-abit (1).pdf'}"
      ]
     },
     "execution_count": 12,
     "metadata": {},
     "output_type": "execute_result"
    }
   ],
   "source": [
    "from selenium import webdriver\n",
    "from selenium.webdriver.chrome.service import Service\n",
    "from webdriver_manager.chrome import ChromeDriverManager\n",
    "from selenium.webdriver.common.by import By\n",
    "from selenium.webdriver.common.by import By\n",
    "from selenium.webdriver.support.ui import WebDriverWait\n",
    "from selenium.webdriver.support import expected_conditions as EC\n",
    "\n",
    "import time\n",
    "import os\n",
    "import glob\n",
    "\n",
    "\n",
    "def click_button(url, xpath_buttom):\n",
    "    \n",
    "    options = webdriver.ChromeOptions()\n",
    "    driver = webdriver.Chrome(\n",
    "        service=Service(ChromeDriverManager().install()),\n",
    "        options=options\n",
    "    )\n",
    "\n",
    "    try:\n",
    "        driver.get(url)\n",
    "\n",
    "        wait = WebDriverWait(driver, 5)\n",
    "\n",
    "        download_button = wait.until(\n",
    "            EC.element_to_be_clickable((By.XPATH, xpath_buttom))\n",
    "        )\n",
    "\n",
    "        driver.execute_script(\"arguments[0].scrollIntoView();\", download_button)\n",
    "\n",
    "        download_button.click()\n",
    "\n",
    "        time.sleep(5)\n",
    "\n",
    "        print(\"Скачивание начато успешно!\")\n",
    "\n",
    "    except Exception as e:\n",
    "        print(f\"Произошла ошибка: {str(e)}\")\n",
    "    finally:\n",
    "        driver.quit()\n",
    "\n",
    "\n",
    "def find_latest_added_file(directory):\n",
    "    try:\n",
    "        # Получаем список файлов с проверкой существования директории\n",
    "        if not os.path.exists(directory):\n",
    "            raise FileNotFoundError(f\"Директория {directory} не существует\")\n",
    "            \n",
    "        files = [f for f in glob.glob(os.path.join(directory, '*')) \n",
    "                if os.path.isfile(f)]\n",
    "                \n",
    "        if not files:\n",
    "            return None\n",
    "\n",
    "        latest_file = max(files, key=os.path.getctime)\n",
    "        \n",
    "        return latest_file\n",
    "        \n",
    "    except Exception as e:\n",
    "        print(f\"Ошибка: {e}\")\n",
    "        return None\n",
    "    \n",
    "target_dir = '/Users/ushakovalex/Downloads/'\n",
    "\n",
    "urls_dic = {\n",
    "    'https://abit.itmo.ru/program/master/ai':'//*[@id=\"__next\"]/div/main/div[3]/div[4]/div/div/button',\n",
    "    'https://abit.itmo.ru/program/master/ai_product':'//*[@id=\"__next\"]/div/main/div[3]/div[4]/div/div/button'\n",
    "}\n",
    "\n",
    "file_path_dic = {}\n",
    "\n",
    "for url in urls_dic.keys():\n",
    "    \n",
    "    click_button(url, urls_dic[url])\n",
    "    \n",
    "    latest = find_latest_added_file(target_dir)\n",
    "\n",
    "    if latest:\n",
    "        file_path_dic[url] = latest\n",
    "        ctime = os.path.getctime(latest)\n",
    "        print(f\"\\nПоследний добавленный файл: {os.path.basename(latest)}\")\n",
    "        print(f\"Полный путь: {latest}\")\n",
    "        print(f\"Создан: {time.strftime('%Y-%m-%d %H:%M:%S', time.localtime(ctime))}\")\n",
    "        print(f\"Размер: {os.path.getsize(latest)} байт\")\n",
    "    else:\n",
    "        print(\"Файлы не найдены\")\n",
    "\n",
    "file_path_dic"
   ]
  },
  {
   "cell_type": "code",
   "execution_count": 25,
   "id": "416ae761-a98c-43b9-a4ef-6e29404392f0",
   "metadata": {},
   "outputs": [
    {
     "data": {
      "text/plain": [
       "['/Users/ushakovalex/Downloads/10033-abit (2).pdf',\n",
       " '/Users/ushakovalex/Downloads/10130-abit (1).pdf']"
      ]
     },
     "execution_count": 25,
     "metadata": {},
     "output_type": "execute_result"
    }
   ],
   "source": [
    "file_path_lst = []\n",
    "for v in file_path_dic.items():\n",
    "    file_path_lst.append(v[-1])\n",
    "file_path_lst"
   ]
  },
  {
   "cell_type": "code",
   "execution_count": 15,
   "id": "ca7b1001-22fe-496b-a017-92e9473f29be",
   "metadata": {
    "collapsed": true,
    "jupyter": {
     "outputs_hidden": true
    },
    "tags": []
   },
   "outputs": [
    {
     "name": "stdout",
     "output_type": "stream",
     "text": [
      "Collecting gigachat\n",
      "  Downloading gigachat-0.1.42.post1-py3-none-any.whl.metadata (14 kB)\n",
      "Collecting httpx<1 (from gigachat)\n",
      "  Downloading httpx-0.28.1-py3-none-any.whl.metadata (7.1 kB)\n",
      "Collecting pydantic>=1 (from gigachat)\n",
      "  Downloading pydantic-2.11.7-py3-none-any.whl.metadata (67 kB)\n",
      "\u001b[2K     \u001b[90m━━━━━━━━━━━━━━━━━━━━━━━━━━━━━━━━━━━━━━━━\u001b[0m \u001b[32m68.0/68.0 kB\u001b[0m \u001b[31m1.0 MB/s\u001b[0m eta \u001b[36m0:00:00\u001b[0ma \u001b[36m0:00:01\u001b[0m\n",
      "\u001b[?25hRequirement already satisfied: anyio in /opt/anaconda3/lib/python3.9/site-packages (from httpx<1->gigachat) (3.5.0)\n",
      "Requirement already satisfied: certifi in /opt/anaconda3/lib/python3.9/site-packages (from httpx<1->gigachat) (2022.9.24)\n",
      "Collecting httpcore==1.* (from httpx<1->gigachat)\n",
      "  Downloading httpcore-1.0.9-py3-none-any.whl.metadata (21 kB)\n",
      "Requirement already satisfied: idna in /opt/anaconda3/lib/python3.9/site-packages (from httpx<1->gigachat) (3.3)\n",
      "Collecting h11>=0.16 (from httpcore==1.*->httpx<1->gigachat)\n",
      "  Downloading h11-0.16.0-py3-none-any.whl.metadata (8.3 kB)\n",
      "Collecting annotated-types>=0.6.0 (from pydantic>=1->gigachat)\n",
      "  Using cached annotated_types-0.7.0-py3-none-any.whl.metadata (15 kB)\n",
      "Collecting pydantic-core==2.33.2 (from pydantic>=1->gigachat)\n",
      "  Downloading pydantic_core-2.33.2-cp39-cp39-macosx_10_12_x86_64.whl.metadata (6.8 kB)\n",
      "Requirement already satisfied: typing-extensions>=4.12.2 in /opt/anaconda3/lib/python3.9/site-packages (from pydantic>=1->gigachat) (4.12.2)\n",
      "Collecting typing-inspection>=0.4.0 (from pydantic>=1->gigachat)\n",
      "  Downloading typing_inspection-0.4.1-py3-none-any.whl.metadata (2.6 kB)\n",
      "Requirement already satisfied: sniffio>=1.1 in /opt/anaconda3/lib/python3.9/site-packages (from anyio->httpx<1->gigachat) (1.3.1)\n",
      "Downloading gigachat-0.1.42.post1-py3-none-any.whl (69 kB)\n",
      "\u001b[2K   \u001b[90m━━━━━━━━━━━━━━━━━━━━━━━━━━━━━━━━━━━━━━━━\u001b[0m \u001b[32m69.4/69.4 kB\u001b[0m \u001b[31m3.9 MB/s\u001b[0m eta \u001b[36m0:00:00\u001b[0m\n",
      "\u001b[?25hDownloading httpx-0.28.1-py3-none-any.whl (73 kB)\n",
      "\u001b[2K   \u001b[90m━━━━━━━━━━━━━━━━━━━━━━━━━━━━━━━━━━━━━━━━\u001b[0m \u001b[32m73.5/73.5 kB\u001b[0m \u001b[31m5.1 MB/s\u001b[0m eta \u001b[36m0:00:00\u001b[0m\n",
      "\u001b[?25hDownloading httpcore-1.0.9-py3-none-any.whl (78 kB)\n",
      "\u001b[2K   \u001b[90m━━━━━━━━━━━━━━━━━━━━━━━━━━━━━━━━━━━━━━━━\u001b[0m \u001b[32m78.8/78.8 kB\u001b[0m \u001b[31m7.2 MB/s\u001b[0m eta \u001b[36m0:00:00\u001b[0m\n",
      "\u001b[?25hDownloading pydantic-2.11.7-py3-none-any.whl (444 kB)\n",
      "\u001b[2K   \u001b[90m━━━━━━━━━━━━━━━━━━━━━━━━━━━━━━━━━━━━━━━━\u001b[0m \u001b[32m444.8/444.8 kB\u001b[0m \u001b[31m2.7 MB/s\u001b[0m eta \u001b[36m0:00:00\u001b[0ma \u001b[36m0:00:01\u001b[0m\n",
      "\u001b[?25hDownloading pydantic_core-2.33.2-cp39-cp39-macosx_10_12_x86_64.whl (2.0 MB)\n",
      "\u001b[2K   \u001b[90m━━━━━━━━━━━━━━━━━━━━━━━━━━━━━━━━━━━━━━━━\u001b[0m \u001b[32m2.0/2.0 MB\u001b[0m \u001b[31m2.4 MB/s\u001b[0m eta \u001b[36m0:00:00\u001b[0m00:01\u001b[0m00:01\u001b[0m\n",
      "\u001b[?25hUsing cached annotated_types-0.7.0-py3-none-any.whl (13 kB)\n",
      "Downloading typing_inspection-0.4.1-py3-none-any.whl (14 kB)\n",
      "Downloading h11-0.16.0-py3-none-any.whl (37 kB)\n",
      "Installing collected packages: typing-inspection, pydantic-core, h11, annotated-types, pydantic, httpcore, httpx, gigachat\n",
      "  Attempting uninstall: h11\n",
      "    Found existing installation: h11 0.14.0\n",
      "    Uninstalling h11-0.14.0:\n",
      "      Successfully uninstalled h11-0.14.0\n",
      "Successfully installed annotated-types-0.7.0 gigachat-0.1.42.post1 h11-0.16.0 httpcore-1.0.9 httpx-0.28.1 pydantic-2.11.7 pydantic-core-2.33.2 typing-inspection-0.4.1\n",
      "\n",
      "\u001b[1m[\u001b[0m\u001b[34;49mnotice\u001b[0m\u001b[1;39;49m]\u001b[0m\u001b[39;49m A new release of pip is available: \u001b[0m\u001b[31;49m23.3.2\u001b[0m\u001b[39;49m -> \u001b[0m\u001b[32;49m25.2\u001b[0m\n",
      "\u001b[1m[\u001b[0m\u001b[34;49mnotice\u001b[0m\u001b[1;39;49m]\u001b[0m\u001b[39;49m To update, run: \u001b[0m\u001b[32;49mpip install --upgrade pip\u001b[0m\n"
     ]
    }
   ],
   "source": [
    "! pip install gigachat"
   ]
  },
  {
   "cell_type": "code",
   "execution_count": 31,
   "id": "53ee512f-b48d-4c31-b603-c56fdaf44863",
   "metadata": {
    "tags": []
   },
   "outputs": [
    {
     "name": "stdout",
     "output_type": "stream",
     "text": [
      "Для человека с таким бэкграундом — знающего программирование, математики и стремящегося учиться новым технологиям — будет полезно углубиться в следующие дисциплины и направления (по мере убывания приоритетности):\n",
      "\n",
      "### Основные рекомендации\n",
      "\n",
      "1. **Алгоритмы и структуры данных**\n",
      "   - Базовый курс алгоритмов позволит вам закрепить теоретические знания программирования и научиться оптимально решать вычислительные задачи.\n",
      "   \n",
      "2. **Операционные системы и распределённые системы**\n",
      "   - Глубокое понимание процессов, потоков, многозадачности, файловых систем и сетевых взаимодействий поможет эффективно проектировать и поддерживать сложные приложения.\n",
      "   \n",
      "3. **Компьютерная графика и визуализация данных**\n",
      "   - Если вы хотите работать с визуализацией данных, машинным обучением или создавать компьютерные игры, эта дисциплина пригодится для разработки интерфейсов и обработки изображений/видео.\n",
      "   \n",
      "4. **Машинное обучение и искусственный интеллект**\n",
      "   - Современные технологии развиваются именно вокруг ИИ и ML. Освоение базовых понятий и методов анализа данных даст дополнительные конкурентные преимущества.\n",
      "   \n",
      "5. **Безопасность информационных технологий**\n",
      "   - Понимание современных угроз и защиты информации важно практически во всех сферах IT-индустрии.\n",
      "   \n",
      "6. **Разработка веб-приложений и клиент-серверные архитектуры**\n",
      "   - Этот раздел особенно важен сейчас, когда большинство сервисов предоставляются через интернет. Знание серверной и клиентской части позволит легко адаптироваться к требованиям работодателей.\n",
      "   \n",
      "7. **Основы цифровой электроники и микропроцессоры**\n",
      "   - Курс полезен, чтобы понимать принципы работы аппаратного обеспечения и низкоуровневых механизмов функционирования компьютеров.\n",
      "   \n",
      "8. **Нейронные сети и глубокое обучение**\n",
      "   - Важный тренд последних лет, который позволяет разрабатывать решения в области распознавания образов, предсказательной аналитики и робототехники.\n",
      "   \n",
      "9. **Системное администрирование и управление серверами**\n",
      "   - В IT-отрасли необходимы специалисты, способные управлять инфраструктурой и обслуживать серверы компании.\n",
      "   \n",
      "10. **Программирование микроконтроллеров и встроенных систем**\n",
      "   - Для тех, кто хочет перейти в сферу интернета вещей, автоматики и робототехники.\n",
      "\n",
      "---\n",
      "\n",
      "### Рекомендации исходя из предпочтений\n",
      "\n",
      "- Если вы заинтересованы в **аналитике данных**, изучите статистику, основы статистики, статистическое моделирование, теорию вероятностей и базовые методы анализа больших данных.\n",
      "  \n",
      "- Если вас привлекает **разработка игр** или создание приложений с использованием графики, рекомендуется изучить OpenGL, DirectX, Blender и специализированные курсы по компьютерной графике и анимации.\n",
      "\n",
      "- Если интересуетесь **искусственным интеллектом и нейронными сетями**, обратите внимание на специализированные курсы по глубинному обучению, теории принятия решений, теории игр и когнитивным наукам.\n",
      "\n",
      "- Если предпочитаете работу в сфере **облачных вычислений и big data**, рекомендую изучение Kubernetes, Docker, Apache Spark, Hadoop и других популярных инструментов для управления большими объёмами данных и автоматизации инфраструктуры.\n",
      "\n",
      "Таким образом, ваш образовательный путь должен включать смесь фундаментальных знаний, практического опыта и специализированных курсов, соответствующих вашим интересам и карьерным целям.\n"
     ]
    }
   ],
   "source": [
    "from gigachat import GigaChat\n",
    "\n",
    "au_k = ''\n",
    "\n",
    "auth_key = au_k\n",
    "giga = GigaChat(credentials=auth_key, verify_ssl_certs=False)\n",
    "file_path = file_path_lst[0]\n",
    "with open(file_path, 'rb') as file_data:\n",
    "    uploaded_file = giga.upload_file(file_data) \n",
    "\n",
    "\n",
    "prompt_text = \"\"\"Какие выбранные дисциплины лучше прослушать абитуриенту в ходе обучения, с учётом вводных от абитуриента о его бэкграунде.\"\"\"\n",
    "prompt_text += \"\"\" Вот описание его бекграунда: \"\"\"\n",
    "prompt_text += \"\"\" Я изучал программирование в школе и вузе, хорошо знаю математику и быстро учусь новому.\"\"\"\n",
    "\n",
    "response = giga.chat(\n",
    "    {\n",
    "        \"messages\": [\n",
    "            {\n",
    "                \"role\": \"user\",\n",
    "                \"content\": prompt_text,\n",
    "                \"attachments\": uploaded_files\n",
    "            }]\n",
    "    }\n",
    ")\n",
    "\n",
    "answer = response.choices[0].message.content\n",
    "print(answer)"
   ]
  },
  {
   "cell_type": "code",
   "execution_count": null,
   "id": "4209c4c4-2039-4db2-9cbb-389e793de4ea",
   "metadata": {},
   "outputs": [],
   "source": []
  }
 ],
 "metadata": {
  "kernelspec": {
   "display_name": "Python 3 (ipykernel)",
   "language": "python",
   "name": "python3"
  },
  "language_info": {
   "codemirror_mode": {
    "name": "ipython",
    "version": 3
   },
   "file_extension": ".py",
   "mimetype": "text/x-python",
   "name": "python",
   "nbconvert_exporter": "python",
   "pygments_lexer": "ipython3",
   "version": "3.9.13"
  }
 },
 "nbformat": 4,
 "nbformat_minor": 5
}
